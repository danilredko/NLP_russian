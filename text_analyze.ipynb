{
 "cells": [
  {
   "cell_type": "markdown",
   "metadata": {},
   "source": [
    " Russian Language NLP"
   ]
  },
  {
   "cell_type": "markdown",
   "metadata": {},
   "source": [
    "<br><h4>I've done research about Natural Language Processing for russian language, and I found a library called pymorph2. </h4><br>"
   ]
  },
  {
   "cell_type": "code",
   "execution_count": 1,
   "metadata": {},
   "outputs": [],
   "source": [
    "import nltk\n",
    "import spacy\n",
    "from nltk.tokenize import word_tokenize, WordPunctTokenizer \n",
    "from nltk.tag import pos_tag"
   ]
  },
  {
   "cell_type": "code",
   "execution_count": 2,
   "metadata": {},
   "outputs": [],
   "source": [
    "rus_text = \"Его зовут Д.А. Редько! А как зовут вас? \""
   ]
  },
  {
   "cell_type": "code",
   "execution_count": 3,
   "metadata": {},
   "outputs": [
    {
     "data": {
      "text/plain": [
       "['Его зовут Д.А.', 'Редько!', 'А как зовут вас?']"
      ]
     },
     "execution_count": 3,
     "metadata": {},
     "output_type": "execute_result"
    }
   ],
   "source": [
    "nltk.sent_tokenize(rus_text)"
   ]
  },
  {
   "cell_type": "markdown",
   "metadata": {},
   "source": [
    "<br><h4>There is this different if we set language to russian, because in russian language 'Д.А.' is just a short way of writing full names, which is not a new sentence. <br></h4>"
   ]
  },
  {
   "cell_type": "code",
   "execution_count": 4,
   "metadata": {},
   "outputs": [
    {
     "data": {
      "text/plain": [
       "['Его зовут Д.А. Редько!', 'А как зовут вас?']"
      ]
     },
     "execution_count": 4,
     "metadata": {},
     "output_type": "execute_result"
    }
   ],
   "source": [
    "nltk.sent_tokenize(rus_text, language='russian')"
   ]
  },
  {
   "cell_type": "code",
   "execution_count": 5,
   "metadata": {},
   "outputs": [],
   "source": [
    "import pymorphy2"
   ]
  },
  {
   "cell_type": "markdown",
   "metadata": {},
   "source": [
    "<br><h4>Morphological analysis is the determination of the characteristics of a word based on how the word is spelled. Morphological analysis does not use information about neighboring words.<br></h4>"
   ]
  },
  {
   "cell_type": "code",
   "execution_count": 6,
   "metadata": {},
   "outputs": [],
   "source": [
    "morph = pymorphy2.MorphAnalyzer()"
   ]
  },
  {
   "cell_type": "markdown",
   "metadata": {},
   "source": [
    "<br><h4>Here: I use a verb 'run'(past, present, future tense) as a word to demontrate how the parsing works. I use dictionaty of the form {'english': 'russian'}<br></h4>"
   ]
  },
  {
   "cell_type": "code",
   "execution_count": 7,
   "metadata": {},
   "outputs": [],
   "source": [
    "run = {'will_run': 'побегу', 'run':'бегаю', 'running': 'бегу'}"
   ]
  },
  {
   "cell_type": "code",
   "execution_count": 8,
   "metadata": {},
   "outputs": [],
   "source": [
    "run_english = list(run.keys())\n",
    "run_russian = list(run.values())"
   ]
  },
  {
   "cell_type": "code",
   "execution_count": 9,
   "metadata": {},
   "outputs": [
    {
     "name": "stdout",
     "output_type": "stream",
     "text": [
      "['will_run', 'run', 'running']\n"
     ]
    }
   ],
   "source": [
    "print(run_english)"
   ]
  },
  {
   "cell_type": "code",
   "execution_count": 10,
   "metadata": {},
   "outputs": [
    {
     "name": "stdout",
     "output_type": "stream",
     "text": [
      "['побегу', 'бегаю', 'бегу']\n"
     ]
    }
   ],
   "source": [
    "print(run_russian)"
   ]
  },
  {
   "cell_type": "markdown",
   "metadata": {},
   "source": [
    "<br><h4>Let's get some data about the words, for example, whether it is a noun or a verb. single or plural, normal form  etc.<br></h4>"
   ]
  },
  {
   "cell_type": "code",
   "execution_count": 11,
   "metadata": {},
   "outputs": [
    {
     "name": "stdout",
     "output_type": "stream",
     "text": [
      "______________________________________________________________\n",
      "\n",
      "forms of ENG: will_run, RUS: побегу\n",
      "\n",
      "ENG:\n",
      "побегу : VERB,perf,intr sing,1per,futr,indc; score: 0.666666\n",
      "RUS:\n",
      "побегу : ГЛ,сов,неперех ед,1л,буд,изъяв; score: 0.666666\n",
      "normal form: побежать\n",
      "\n",
      "ENG:\n",
      "побегу : NOUN,inan,masc sing,datv; score: 0.333333\n",
      "RUS:\n",
      "побегу : СУЩ,неод,мр ед,дт; score: 0.333333\n",
      "normal form: побег\n",
      "\n",
      "______________________________________________________________\n",
      "\n",
      "forms of ENG: run, RUS: бегаю\n",
      "\n",
      "ENG:\n",
      "бегаю : VERB,impf,intr sing,1per,pres,indc; score: 1.0\n",
      "RUS:\n",
      "бегаю : ГЛ,несов,неперех ед,1л,наст,изъяв; score: 1.0\n",
      "normal form: бегать\n",
      "\n",
      "______________________________________________________________\n",
      "\n",
      "forms of ENG: running, RUS: бегу\n",
      "\n",
      "ENG:\n",
      "бегу : NOUN,inan,masc,Sgtm sing,loc2; score: 0.428571\n",
      "RUS:\n",
      "бегу : СУЩ,неод,мр,sg ед,пр2; score: 0.428571\n",
      "normal form: бег\n",
      "\n",
      "ENG:\n",
      "бегу : NOUN,inan,masc,Sgtm sing,datv; score: 0.285714\n",
      "RUS:\n",
      "бегу : СУЩ,неод,мр,sg ед,дт; score: 0.285714\n",
      "normal form: бег\n",
      "\n",
      "ENG:\n",
      "бегу : VERB,perf,intr sing,1per,futr,indc; score: 0.142857\n",
      "RUS:\n",
      "бегу : ГЛ,сов,неперех ед,1л,буд,изъяв; score: 0.142857\n",
      "normal form: бежать\n",
      "\n",
      "ENG:\n",
      "бегу : VERB,impf,intr sing,1per,pres,indc; score: 0.142857\n",
      "RUS:\n",
      "бегу : ГЛ,несов,неперех ед,1л,наст,изъяв; score: 0.142857\n",
      "normal form: бежать\n",
      "\n"
     ]
    }
   ],
   "source": [
    "for eng_run_word, rus_run_word in run.items():\n",
    "    print('______________________________________________________________')\n",
    "    print('')\n",
    "    print('forms of ENG: {}, RUS: {}'.format(eng_run_word, rus_run_word))\n",
    "    print('')\n",
    "    \n",
    "    for form in morph.parse(rus_run_word):\n",
    "        print(\"ENG:\")\n",
    "        print(\"{} : {}; score: {}\".format(form.word, form.tag, form.score))\n",
    "        print(\"RUS:\")\n",
    "        print(\"{} : {}; score: {}\".format(form.word, form.tag.cyr_repr, form.score))\n",
    "        print(\"normal form: \"+form.normal_form)\n",
    "        print('')\n"
   ]
  },
  {
   "cell_type": "markdown",
   "metadata": {},
   "source": [
    "<br><h4>Lexeme is a unit of lexical meaning that underlies a set of words that are related through inflection. It is a basic abstract unit of meaning, a unit of morphological analysis in linguistics that roughly corresponds to a set of forms taken by a single root word (Wikipedia). Let's apply this for our analysis.<br><h4>"
   ]
  },
  {
   "cell_type": "markdown",
   "metadata": {},
   "source": [
    "## Score\n",
    "<br><h4>\n",
    "At present, P (tag | word) estimates based on OpenCorpora(open source project) are for about 20 thousand words (based on about 250 thousand observations). For those words for which there is no such assessment, the probability P (tag | word) is either considered uniform (for dictionary words) or estimated based on empirical rules (for non-dictionary words). Parses are sorted in descending order by score, therefore everywhere in the examples the first parsing option is taken from the possible ones:  \n",
    "For example : <br><h4>"
   ]
  },
  {
   "cell_type": "code",
   "execution_count": 12,
   "metadata": {},
   "outputs": [],
   "source": [
    "run_rus_word = morph.parse(run['run'])[0]"
   ]
  },
  {
   "cell_type": "markdown",
   "metadata": {},
   "source": [
    "## Lexeme\n",
    "<br><h4>As we can see russian language can be complicated bacause we have 70 forms of a word 'run':<br><h4>"
   ]
  },
  {
   "cell_type": "code",
   "execution_count": 13,
   "metadata": {},
   "outputs": [
    {
     "data": {
      "text/plain": [
       "70"
      ]
     },
     "execution_count": 13,
     "metadata": {},
     "output_type": "execute_result"
    }
   ],
   "source": [
    "rus_run_lexeme = run_rus_word.lexeme\n",
    "len(rus_run_lexeme)"
   ]
  },
  {
   "cell_type": "markdown",
   "metadata": {},
   "source": [
    "<br><h4>Let's print all of them:<br></h4>"
   ]
  },
  {
   "cell_type": "code",
   "execution_count": 14,
   "metadata": {},
   "outputs": [
    {
     "name": "stdout",
     "output_type": "stream",
     "text": [
      "бегать\n",
      "бегаю\n",
      "бегаем\n",
      "бегаешь\n",
      "бегаете\n",
      "бегает\n",
      "бегают\n",
      "бегал\n",
      "бегала\n",
      "бегало\n",
      "бегали\n",
      "бегай\n",
      "бегайте\n",
      "бегающий\n",
      "бегающего\n",
      "бегающему\n",
      "бегающего\n",
      "бегающий\n",
      "бегающим\n",
      "бегающем\n",
      "бегающая\n",
      "бегающей\n",
      "бегающей\n",
      "бегающую\n",
      "бегающей\n",
      "бегающею\n",
      "бегающей\n",
      "бегающее\n",
      "бегающего\n",
      "бегающему\n",
      "бегающее\n",
      "бегающим\n",
      "бегающем\n",
      "бегающие\n",
      "бегающих\n",
      "бегающим\n",
      "бегающих\n",
      "бегающие\n",
      "бегающими\n",
      "бегающих\n",
      "бегавший\n",
      "бегавшего\n",
      "бегавшему\n",
      "бегавшего\n",
      "бегавший\n",
      "бегавшим\n",
      "бегавшем\n",
      "бегавшая\n",
      "бегавшей\n",
      "бегавшей\n",
      "бегавшую\n",
      "бегавшей\n",
      "бегавшею\n",
      "бегавшей\n",
      "бегавшее\n",
      "бегавшего\n",
      "бегавшему\n",
      "бегавшее\n",
      "бегавшим\n",
      "бегавшем\n",
      "бегавшие\n",
      "бегавших\n",
      "бегавшим\n",
      "бегавших\n",
      "бегавшие\n",
      "бегавшими\n",
      "бегавших\n",
      "бегая\n",
      "бегав\n",
      "бегавши\n"
     ]
    }
   ],
   "source": [
    "for rus_run_word in rus_run_lexeme:\n",
    "    print(rus_run_word.word)"
   ]
  },
  {
   "cell_type": "markdown",
   "metadata": {},
   "source": [
    "<br><h4>Russian Language has a different way how to say '4 years' and '5 years'.## Words after numbers\n",
    "Russian Language has a different way to say '4 years' and '5 years'.<br></h4>"
   ]
  },
  {
   "cell_type": "code",
   "execution_count": 15,
   "metadata": {},
   "outputs": [],
   "source": [
    "year = morph.parse('год')[0]"
   ]
  },
  {
   "cell_type": "code",
   "execution_count": 16,
   "metadata": {},
   "outputs": [
    {
     "data": {
      "text/plain": [
       "'года'"
      ]
     },
     "execution_count": 16,
     "metadata": {},
     "output_type": "execute_result"
    }
   ],
   "source": [
    "year.make_agree_with_number(4).word"
   ]
  },
  {
   "cell_type": "code",
   "execution_count": 17,
   "metadata": {},
   "outputs": [
    {
     "data": {
      "text/plain": [
       "'годов'"
      ]
     },
     "execution_count": 17,
     "metadata": {},
     "output_type": "execute_result"
    }
   ],
   "source": [
    "year.make_agree_with_number(6).word"
   ]
  },
  {
   "cell_type": "markdown",
   "metadata": {},
   "source": [
    "<br><h4>This is actually wrong, it should be another word('лет') with 6 (bag of library). Let's try another word( a plate). <br></h4>"
   ]
  },
  {
   "cell_type": "code",
   "execution_count": 18,
   "metadata": {},
   "outputs": [],
   "source": [
    "plate = morph.parse('тарелка')[0]"
   ]
  },
  {
   "cell_type": "code",
   "execution_count": 19,
   "metadata": {},
   "outputs": [
    {
     "data": {
      "text/plain": [
       "'тарелка'"
      ]
     },
     "execution_count": 19,
     "metadata": {},
     "output_type": "execute_result"
    }
   ],
   "source": [
    "plate.make_agree_with_number(1).word"
   ]
  },
  {
   "cell_type": "code",
   "execution_count": 20,
   "metadata": {},
   "outputs": [
    {
     "data": {
      "text/plain": [
       "'тарелки'"
      ]
     },
     "execution_count": 20,
     "metadata": {},
     "output_type": "execute_result"
    }
   ],
   "source": [
    "plate.make_agree_with_number(2).word"
   ]
  },
  {
   "cell_type": "code",
   "execution_count": 21,
   "metadata": {},
   "outputs": [
    {
     "data": {
      "text/plain": [
       "'тарелок'"
      ]
     },
     "execution_count": 21,
     "metadata": {},
     "output_type": "execute_result"
    }
   ],
   "source": [
    "plate.make_agree_with_number(6).word"
   ]
  },
  {
   "cell_type": "markdown",
   "metadata": {},
   "source": [
    "<br><h4>This works exactly as expected.<br></h4>"
   ]
  },
  {
   "cell_type": "markdown",
   "metadata": {},
   "source": [
    "## Change form of a word"
   ]
  },
  {
   "cell_type": "code",
   "execution_count": 29,
   "metadata": {},
   "outputs": [
    {
     "data": {
      "text/plain": [
       "Parse(word='тарелка', tag=OpencorporaTag('NOUN,inan,femn sing,nomn'), normal_form='тарелка', score=1.0, methods_stack=((<DictionaryAnalyzer>, 'тарелка', 8, 0),))"
      ]
     },
     "execution_count": 29,
     "metadata": {},
     "output_type": "execute_result"
    }
   ],
   "source": [
    "plate"
   ]
  },
  {
   "cell_type": "code",
   "execution_count": 30,
   "metadata": {},
   "outputs": [
    {
     "data": {
      "text/plain": [
       "Parse(word='тарелки', tag=OpencorporaTag('NOUN,inan,femn sing,gent'), normal_form='тарелка', score=1.0, methods_stack=((<DictionaryAnalyzer>, 'тарелки', 8, 1),))"
      ]
     },
     "execution_count": 30,
     "metadata": {},
     "output_type": "execute_result"
    }
   ],
   "source": [
    "plate.inflect({'gent'})"
   ]
  },
  {
   "cell_type": "code",
   "execution_count": 31,
   "metadata": {},
   "outputs": [
    {
     "data": {
      "text/plain": [
       "Parse(word='тарелку', tag=OpencorporaTag('NOUN,inan,femn sing,accs'), normal_form='тарелка', score=1.0, methods_stack=((<DictionaryAnalyzer>, 'тарелку', 8, 3),))"
      ]
     },
     "execution_count": 31,
     "metadata": {},
     "output_type": "execute_result"
    }
   ],
   "source": [
    "plate.inflect({'accs'})"
   ]
  },
  {
   "cell_type": "code",
   "execution_count": 32,
   "metadata": {},
   "outputs": [
    {
     "data": {
      "text/plain": [
       "Parse(word='тарелке', tag=OpencorporaTag('NOUN,inan,femn sing,loct'), normal_form='тарелка', score=1.0, methods_stack=((<DictionaryAnalyzer>, 'тарелке', 8, 6),))"
      ]
     },
     "execution_count": 32,
     "metadata": {},
     "output_type": "execute_result"
    }
   ],
   "source": [
    "plate.inflect({'loct'})"
   ]
  },
  {
   "cell_type": "markdown",
   "metadata": {},
   "source": [
    "## Gender of a word\n",
    "<br><h4>In russian language, a word has its gender. For example, a male cat is a different word from a female cat. Let's see the difference. <br></h4>"
   ]
  },
  {
   "cell_type": "code",
   "execution_count": 26,
   "metadata": {},
   "outputs": [],
   "source": [
    "male_cat = morph.parse('кот')[0]\n",
    "female_cat = morph.parse('кошка')[0]"
   ]
  },
  {
   "cell_type": "code",
   "execution_count": 27,
   "metadata": {},
   "outputs": [
    {
     "data": {
      "text/plain": [
       "'masc'"
      ]
     },
     "execution_count": 27,
     "metadata": {},
     "output_type": "execute_result"
    }
   ],
   "source": [
    "male_cat.tag.gender"
   ]
  },
  {
   "cell_type": "code",
   "execution_count": 28,
   "metadata": {},
   "outputs": [
    {
     "data": {
      "text/plain": [
       "'femn'"
      ]
     },
     "execution_count": 28,
     "metadata": {},
     "output_type": "execute_result"
    }
   ],
   "source": [
    "female_cat.tag.gender"
   ]
  }
 ],
 "metadata": {
  "kernelspec": {
   "display_name": "Python 3",
   "language": "python",
   "name": "python3"
  },
  "language_info": {
   "codemirror_mode": {
    "name": "ipython",
    "version": 3
   },
   "file_extension": ".py",
   "mimetype": "text/x-python",
   "name": "python",
   "nbconvert_exporter": "python",
   "pygments_lexer": "ipython3",
   "version": "3.6.8"
  }
 },
 "nbformat": 4,
 "nbformat_minor": 2
}
