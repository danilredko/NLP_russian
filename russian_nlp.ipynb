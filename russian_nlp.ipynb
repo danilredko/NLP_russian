{
 "cells": [
  {
   "cell_type": "markdown",
   "metadata": {},
   "source": [
    "## Russian Language NLP models\n",
    "<br>"
   ]
  },
  {
   "cell_type": "code",
   "execution_count": 54,
   "metadata": {},
   "outputs": [],
   "source": [
    "import gensim"
   ]
  },
  {
   "cell_type": "markdown",
   "metadata": {},
   "source": [
    "<h4><br> This model was found online:\n",
    "    \n",
    "    http://vectors.nlpl.eu/repository\n",
    "    \n",
    "</h4><br>"
   ]
  },
  {
   "cell_type": "code",
   "execution_count": 55,
   "metadata": {},
   "outputs": [],
   "source": [
    "model = gensim.models.KeyedVectors.load_word2vec_format('182/model.bin', binary=True)"
   ]
  },
  {
   "cell_type": "markdown",
   "metadata": {},
   "source": [
    "<br><h4>Let's see how well the model works:\n",
    "'кот' = 'cat' is a male cat. \n",
    "</h4><br>"
   ]
  },
  {
   "cell_type": "code",
   "execution_count": 56,
   "metadata": {},
   "outputs": [
    {
     "name": "stdout",
     "output_type": "stream",
     "text": [
      "кошка_NOUN 0.7997094392776489\n",
      "пес_NOUN 0.7273907661437988\n",
      "котенок_NOUN 0.6936281323432922\n",
      "заяц_NOUN 0.6784017086029053\n",
      "собака_NOUN 0.6683645248413086\n",
      "мышонок_NOUN 0.6490216255187988\n",
      "кот_PROPN 0.646348237991333\n",
      "волк_NOUN 0.6361109018325806\n",
      "котенка_NOUN 0.6339926719665527\n",
      "щенок_NOUN 0.6331411600112915\n"
     ]
    }
   ],
   "source": [
    "for n in model.most_similar(positive=[u'кот_NOUN']):\n",
    "    print (n[0], n[1])"
   ]
  },
  {
   "cell_type": "markdown",
   "metadata": {},
   "source": [
    "<br><h4>The first result gives us 'кошка' = female cat.</h4><br>\n",
    "<br><h4>Let's try to get a word 'QUEEN' by using 'WOMAN' and 'KING' with negative 'MAN'</h4><br>"
   ]
  },
  {
   "cell_type": "code",
   "execution_count": 57,
   "metadata": {},
   "outputs": [
    {
     "data": {
      "text/plain": [
       "[('королева_NOUN', 0.7522940635681152),\n",
       " ('королева_ADV', 0.6723165512084961),\n",
       " ('король_PROPN', 0.621085524559021),\n",
       " ('королева_ADJ', 0.6120519638061523),\n",
       " ('королю_NOUN', 0.5823982954025269),\n",
       " ('императрица_NOUN', 0.5821869373321533),\n",
       " ('королева_PROPN', 0.5819259881973267),\n",
       " ('людовик_PROPN', 0.5757502317428589),\n",
       " ('принцесса_NOUN', 0.5663573741912842),\n",
       " ('государь_NOUN', 0.5634191036224365)]"
      ]
     },
     "execution_count": 57,
     "metadata": {},
     "output_type": "execute_result"
    }
   ],
   "source": [
    "model.most_similar(positive=['женщина_NOUN', 'король_NOUN'], negative=['мужчина_NOUN'])"
   ]
  },
  {
   "cell_type": "markdown",
   "metadata": {},
   "source": [
    "<br><h4>The result with the highest score is QUEEN, exactly what we needed. </h4><br>"
   ]
  },
  {
   "cell_type": "markdown",
   "metadata": {},
   "source": [
    "<h4><br> Similarity between a male cat and a female cat: </h4><br>"
   ]
  },
  {
   "cell_type": "code",
   "execution_count": 58,
   "metadata": {},
   "outputs": [
    {
     "data": {
      "text/plain": [
       "0.79970944"
      ]
     },
     "execution_count": 58,
     "metadata": {},
     "output_type": "execute_result"
    }
   ],
   "source": [
    "model.similarity('кот_NOUN', 'кошка_NOUN')"
   ]
  },
  {
   "cell_type": "markdown",
   "metadata": {},
   "source": [
    "<h4><br>Similarity between a plate and a fork:</h4><br>"
   ]
  },
  {
   "cell_type": "code",
   "execution_count": 59,
   "metadata": {},
   "outputs": [
    {
     "data": {
      "text/plain": [
       "0.6712138"
      ]
     },
     "execution_count": 59,
     "metadata": {},
     "output_type": "execute_result"
    }
   ],
   "source": [
    "model.similarity('тарелка_NOUN', 'ложка_NOUN')"
   ]
  },
  {
   "cell_type": "markdown",
   "metadata": {},
   "source": [
    "<br><h4>'Nose' does not match with: a dog, a cat, a whale, and a  giraffe.</h4><br>"
   ]
  },
  {
   "cell_type": "code",
   "execution_count": 64,
   "metadata": {},
   "outputs": [
    {
     "data": {
      "text/plain": [
       "'нос_NOUN'"
      ]
     },
     "execution_count": 64,
     "metadata": {},
     "output_type": "execute_result"
    }
   ],
   "source": [
    "model.doesnt_match('нос_NOUN собака_NOUN кот_NOUN кит_NOUN жираф_NOUN'.split())"
   ]
  },
  {
   "cell_type": "markdown",
   "metadata": {},
   "source": [
    "<br><h4>Distances between 'kitchen' with a knife, tea, and dishes: </h4><br>"
   ]
  },
  {
   "cell_type": "code",
   "execution_count": 61,
   "metadata": {},
   "outputs": [
    {
     "data": {
      "text/plain": [
       "array([0.47616768, 0.6457973 , 0.47807723], dtype=float32)"
      ]
     },
     "execution_count": 61,
     "metadata": {},
     "output_type": "execute_result"
    }
   ],
   "source": [
    "model.distances('кухня_NOUN', other_words=('посуда_NOUN','нож_NOUN', 'чай_NOUN'))"
   ]
  },
  {
   "cell_type": "markdown",
   "metadata": {},
   "source": [
    "<h4><br> 'music' is the most similar to 'water', 'knife', 'house', and 'sound'.</h4><br>"
   ]
  },
  {
   "cell_type": "code",
   "execution_count": 62,
   "metadata": {},
   "outputs": [
    {
     "data": {
      "text/plain": [
       "'звук_NOUN'"
      ]
     },
     "execution_count": 62,
     "metadata": {},
     "output_type": "execute_result"
    }
   ],
   "source": [
    "model.most_similar_to_given('музыка_NOUN', ['вода_NOUN','нож_NOUN','дом_NOUN','звук_NOUN'])"
   ]
  },
  {
   "cell_type": "markdown",
   "metadata": {},
   "source": [
    "<br><h4>'animal' is the most similar to 'cat', 'glass', 'apartment', and 'watches'.<br></h4>"
   ]
  },
  {
   "cell_type": "code",
   "execution_count": 63,
   "metadata": {},
   "outputs": [
    {
     "data": {
      "text/plain": [
       "'кот_NOUN'"
      ]
     },
     "execution_count": 63,
     "metadata": {},
     "output_type": "execute_result"
    }
   ],
   "source": [
    "model.most_similar_to_given('животное_NOUN', ['кот_NOUN','стакан_NOUN',\n",
    "                                              'квартира_NOUN','часы_NOUN'])"
   ]
  },
  {
   "cell_type": "code",
   "execution_count": null,
   "metadata": {},
   "outputs": [],
   "source": []
  }
 ],
 "metadata": {
  "kernelspec": {
   "display_name": "Python 3",
   "language": "python",
   "name": "python3"
  },
  "language_info": {
   "codemirror_mode": {
    "name": "ipython",
    "version": 3
   },
   "file_extension": ".py",
   "mimetype": "text/x-python",
   "name": "python",
   "nbconvert_exporter": "python",
   "pygments_lexer": "ipython3",
   "version": "3.6.8"
  }
 },
 "nbformat": 4,
 "nbformat_minor": 2
}
